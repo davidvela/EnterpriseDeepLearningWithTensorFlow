{
 "cells": [
  {
   "cell_type": "markdown",
   "metadata": {},
   "source": [
    "# Enterprise Deep Learning with TensorFlow: openSAP \n",
    "\n",
    "## SAP Innovation Center Network\n",
    "```\n",
    "Licensed under the Apache License, Version 2.0 (the \"License\");\n",
    "you may not use this file except in compliance with the License.\n",
    "You may obtain a copy of the License at\n",
    "\n",
    "    http://www.apache.org/licenses/LICENSE-2.0\n",
    "\n",
    "Unless required by applicable law or agreed to in writing, software\n",
    "distributed under the License is distributed on an \"AS IS\" BASIS,\n",
    "WITHOUT WARRANTIES OR CONDITIONS OF ANY KIND, either express or implied.\n",
    "See the License for the specific language governing permissions and\n",
    "limitations under the License.\n",
    "```"
   ]
  },
  {
   "cell_type": "markdown",
   "metadata": {},
   "source": [
    "### Introduction to TensorFlow\n",
    "In this notebook, we will learn \n",
    "- Some common TensorFlow operations \n",
    "- Run math operations using Session\n",
    "- Understand how TensorFlow can run computes on different devices"
   ]
  },
  {
   "cell_type": "code",
   "execution_count": 7,
   "metadata": {},
   "outputs": [],
   "source": [
    "# Import tensorflow library\n",
    "# Reference it as tf for ease of calling\n",
    "import tensorflow as tf"
   ]
  },
  {
   "cell_type": "code",
   "execution_count": 8,
   "metadata": {},
   "outputs": [
    {
     "name": "stdout",
     "output_type": "stream",
     "text": [
      "You are running TensorFlow 1.3.0\n"
     ]
    }
   ],
   "source": [
    "# Let's check our TensorFlow version\n",
    "print(\"You are running TensorFlow %s\" % str(tf.__version__))"
   ]
  },
  {
   "cell_type": "code",
   "execution_count": 9,
   "metadata": {},
   "outputs": [],
   "source": [
    "# List of math ops can be found here: https://www.tensorflow.org/api_guides/python/math_ops\n",
    "# Let us use an InteractiveSession \n",
    "# Provides an easy to use session for interactive environments like a Jupyter notebook\n",
    "sess = tf.InteractiveSession()"
   ]
  },
  {
   "cell_type": "code",
   "execution_count": 10,
   "metadata": {},
   "outputs": [
    {
     "name": "stdout",
     "output_type": "stream",
     "text": [
      "34\n"
     ]
    }
   ],
   "source": [
    "a = tf.constant(23, name='const_a')\n",
    "b = tf.constant(11, name='const_b')\n",
    "\n",
    "# Let's add the two prime numbers\n",
    "c = tf.add(a, b)\n",
    "print(c.eval())"
   ]
  },
  {
   "cell_type": "code",
   "execution_count": 11,
   "metadata": {},
   "outputs": [
    {
     "name": "stdout",
     "output_type": "stream",
     "text": [
      "12\n"
     ]
    }
   ],
   "source": [
    "# Let's subtract two prime numbers\n",
    "c = tf.subtract(a, b)\n",
    "print(c.eval())"
   ]
  },
  {
   "cell_type": "code",
   "execution_count": 12,
   "metadata": {},
   "outputs": [
    {
     "data": {
      "text/plain": [
       "<tf.Tensor 'LogicalXor:0' shape=() dtype=bool>"
      ]
     },
     "execution_count": 12,
     "metadata": {},
     "output_type": "execute_result"
    }
   ],
   "source": [
    "# More ops for playing with TensorFlow \n",
    "# Let's multiply two prime numbers\n",
    "c = tf.multiply(a, b)\n",
    "# 253\n",
    "\n",
    "# Let's divide two prime numbers\n",
    "c = tf.divide(23, 13)\n",
    "# 2\n",
    "\n",
    "a = tf.constant(23., name='const_a')\n",
    "b = tf.constant(11., name='const_b')\n",
    "\n",
    "# Now, let's divide two prime numbers to see the difference\n",
    "c = tf.divide(23, 13)\n",
    "# 2.090909\n",
    "\n",
    "# Let's get the modulus of two prime numbers\n",
    "c = tf.mod(a, b)\n",
    "# 1.0\n",
    "\n",
    "a = tf.constant(2., name='const_a')\n",
    "b = tf.constant(10., name='const_b')\n",
    "\n",
    "# Let's calculate 2^10\n",
    "c = tf.pow(a, b)\n",
    "# 1024.0\n",
    "\n",
    "# List of control ops can be found here: https://www.tensorflow.org/api_guides/python/control_flow_ops\n",
    "# Check for a < b\n",
    "c = tf.less(a, b)\n",
    "# True \n",
    "\n",
    "# Check for a <= b\n",
    "c = tf.less_equal(a, b)\n",
    "# True\n",
    "\n",
    "# Check for a > b\n",
    "c = tf.greater(a, b)\n",
    "# False\n",
    "\n",
    "# Check for a >= b\n",
    "c = tf.greater_equal(a, b)\n",
    "# False\n",
    "\n",
    "# Some conditional check statements\n",
    "c = tf.logical_and(True, False)\n",
    "# False\n",
    "\n",
    "tf.logical_or(True, False)\n",
    "# True\n",
    "\n",
    "tf.logical_xor(True, False)\n",
    "# True"
   ]
  },
  {
   "cell_type": "code",
   "execution_count": 13,
   "metadata": {},
   "outputs": [],
   "source": [
    "# Let's create two matrices, a 3x1 and another 1x3 matrix for multiplication\n",
    "mat_a = tf.constant([[1., 3., 5.]], name='mat_a')\n",
    "mat_b = tf.constant([[7.], [11.], [13.]], name='mat_b')"
   ]
  },
  {
   "cell_type": "code",
   "execution_count": 14,
   "metadata": {},
   "outputs": [
    {
     "name": "stdout",
     "output_type": "stream",
     "text": [
      "Tensor(\"MatMul:0\", shape=(1, 1), dtype=float32)\n"
     ]
    }
   ],
   "source": [
    "# Let's matrix multiply the two matrices\n",
    "prod_op = tf.matmul(mat_a, mat_b)\n",
    "print(prod_op)"
   ]
  },
  {
   "cell_type": "code",
   "execution_count": 15,
   "metadata": {},
   "outputs": [],
   "source": [
    "# Create a session object to run our matrix multiplication\n",
    "sess = tf.Session()"
   ]
  },
  {
   "cell_type": "code",
   "execution_count": 16,
   "metadata": {},
   "outputs": [],
   "source": [
    "# Get the result by calling run on the session\n",
    "# Returns an numpy ndarray object\n",
    "mat_mul = sess.run(prod_op)"
   ]
  },
  {
   "cell_type": "code",
   "execution_count": 17,
   "metadata": {},
   "outputs": [
    {
     "name": "stdout",
     "output_type": "stream",
     "text": [
      "[[ 105.]]\n"
     ]
    }
   ],
   "source": [
    "# Let's view the result \n",
    "print(mat_mul)\n",
    "# [[ 105.]]"
   ]
  },
  {
   "cell_type": "code",
   "execution_count": 18,
   "metadata": {},
   "outputs": [],
   "source": [
    "# Remember to close the session when done, releases the resources\n",
    "sess.close()"
   ]
  },
  {
   "cell_type": "code",
   "execution_count": 19,
   "metadata": {},
   "outputs": [
    {
     "name": "stdout",
     "output_type": "stream",
     "text": [
      "[[ 105.]]\n"
     ]
    }
   ],
   "source": [
    "# Easier way to handle session objects is \n",
    "# using the familiar 'with' block as follows\n",
    "with tf.Session() as sess:\n",
    "    mat_mul = sess.run(prod_op)\n",
    "    print(mat_mul)\n",
    "# [[ 105.]]"
   ]
  },
  {
   "cell_type": "code",
   "execution_count": 20,
   "metadata": {},
   "outputs": [
    {
     "name": "stdout",
     "output_type": "stream",
     "text": [
      "[[ 105.]]\n"
     ]
    }
   ],
   "source": [
    "# If you have multiple devices capable of computes, use it as follows\n",
    "# /cpu:<device_id>\n",
    "# [Mac] Run the following command to know how many logical cores are present on your machine: sysctl -n hw.ncpu\n",
    "# [Win] Run the following command to know how many logical cores are present on your machine: systeminfo | find /i \"processors\"\n",
    "with tf.Session() as sess:\n",
    "    with tf.device(\"/cpu:0\"):\n",
    "        mat_mul = sess.run(prod_op)\n",
    "        print(mat_mul)\n",
    "# [[ 105.]]"
   ]
  }
 ],
 "metadata": {
  "anaconda-cloud": {},
  "kernelspec": {
   "display_name": "Python 3",
   "language": "python",
   "name": "python3"
  },
  "language_info": {
   "codemirror_mode": {
    "name": "ipython",
    "version": 3
   },
   "file_extension": ".py",
   "mimetype": "text/x-python",
   "name": "python",
   "nbconvert_exporter": "python",
   "pygments_lexer": "ipython3",
   "version": "3.5.2"
  }
 },
 "nbformat": 4,
 "nbformat_minor": 2
}

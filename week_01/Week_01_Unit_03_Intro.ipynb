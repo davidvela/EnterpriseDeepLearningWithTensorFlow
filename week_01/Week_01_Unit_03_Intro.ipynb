{
 "cells": [
  {
   "cell_type": "markdown",
   "metadata": {},
   "source": [
    "# Enterprise Deep Learning with TensorFlow: openSAP \n",
    "\n",
    "## SAP Innovation Center Network\n",
    "```\n",
    "Licensed under the Apache License, Version 2.0 (the \"License\");\n",
    "you may not use this file except in compliance with the License.\n",
    "You may obtain a copy of the License at\n",
    "\n",
    "    http://www.apache.org/licenses/LICENSE-2.0\n",
    "\n",
    "Unless required by applicable law or agreed to in writing, software\n",
    "distributed under the License is distributed on an \"AS IS\" BASIS,\n",
    "WITHOUT WARRANTIES OR CONDITIONS OF ANY KIND, either express or implied.\n",
    "See the License for the specific language governing permissions and\n",
    "limitations under the License.\n",
    "```"
   ]
  },
  {
   "cell_type": "markdown",
   "metadata": {},
   "source": [
    "### Introduction to Jupyter Notebooks\n",
    "\n",
    "A Jupyter notebook will from hereon be referred to as *notebook*.\n",
    "\n",
    "- Supports multiple programming languages (Julia, Python and R)\n",
    "- Documents with the ability to execute code, and display rich text\n",
    "- Capability to hold human-readable texts, equations, plots, images and tables\n",
    "- Kernel associated with a notebook is automatically launched with notebook"
   ]
  },
  {
   "cell_type": "markdown",
   "metadata": {},
   "source": [
    "### Some Keyboard Shortcuts\n",
    "\n",
    "Jupyter notebooks can be run in two modes: \n",
    "- Command mode \n",
    "- Edit mode"
   ]
  },
  {
   "cell_type": "markdown",
   "metadata": {},
   "source": [
    "Following are some keyboard shortcuts commonly used in command mode.\n",
    "\n",
    "Command | Action |\n",
    "------------- |:------------- |\n",
    "Enter | Enter into edit mode \n",
    "[Ctrl / Cmd] + Enter | Run highlighted cell \n",
    "Shift + Enter | Run highlighted cell, select cell below \n",
    "[Alt / Opt] + Enter | Run highlighted cell, insert cell below \n",
    "Y | Change cell to coding mode \n",
    "M | Change cell to markdown mode \n",
    "Up / K | Select cell above current cell \n",
    "Down / J | Select cell below current cell \n",
    "A / B | Insert cell above / below \n",
    "X | Cut selected cell \n",
    "[Ctrl / Cmd] + S | Save and checkpoint notebook "
   ]
  },
  {
   "cell_type": "markdown",
   "metadata": {},
   "source": [
    "Following are some keyboard shortcuts commonly used in edit mode.\n",
    "\n",
    "Command | Action |\n",
    "------------- |:------------- |\n",
    "Enter | Enter into edit mode \n",
    "[Ctrl / Cmd] + A | Select all text in cell \n",
    "[Ctrl / Cmd] + Z | Undo \n",
    "[Ctrl / Cmd] + Shift + Z | Redo "
   ]
  },
  {
   "cell_type": "markdown",
   "metadata": {},
   "source": [
    "### Running Python Code in Jupyter\n",
    "We will run most of our Python code in the course on a Jupyter notebook. \n",
    "\n",
    "A *notebook* can be used for defining blocks of code. It allows execution and display of intermediate code blocks providing a flexible code development and debugging platform for developers.\n",
    "\n",
    "We see some examples of running Python code below"
   ]
  },
  {
   "cell_type": "code",
   "execution_count": 1,
   "metadata": {
    "scrolled": true
   },
   "outputs": [
    {
     "name": "stdout",
     "output_type": "stream",
     "text": [
      "Summing up all the above variables totals to 45\n",
      "Summing up all the above variables totals to 45\n"
     ]
    }
   ],
   "source": [
    "# Simple example of defining variables and lists\n",
    "# Initializing values of multiple variables\n",
    "a, b, c = 15, 20, 10\n",
    "# Formatting the print output using format command\n",
    "print(\"Summing up all the above variables totals to {}\".format(a + b + c))\n",
    "# The % formatting can also be used to print formatted outputs\n",
    "print(\"Summing up all the above variables totals to %d\" % (a + b + c))"
   ]
  },
  {
   "cell_type": "code",
   "execution_count": 2,
   "metadata": {},
   "outputs": [
    {
     "name": "stdout",
     "output_type": "stream",
     "text": [
      "0=>5=>10=>15=>20=>25=>30=>35=>40=>45=>50=>55=>60=>65=>70=>75=>80=>85=>90=>95\n"
     ]
    }
   ],
   "source": [
    "# Initialize a list of numbers from 0 - 99\n",
    "num_list = range(100)\n",
    "# Let's choose only those numbers that are divible by 5 using list comprehension\n",
    "fiver_list = [num for num in num_list if num % 5 == 0] \n",
    "# Creating a formatted string from the list\n",
    "print(\"=>\".join(str(num) for num in fiver_list)) "
   ]
  },
  {
   "cell_type": "markdown",
   "metadata": {},
   "source": [
    "### Displaying Images in Jupyter\n",
    "\n",
    "Images can be displayed in a *notebook* similar to displaying an image on an HTML page.\n",
    "We use the ```![ImageCaption](ImagePath)``` to display images in a *notebook*. The image caption is displayed if the image is not available in the path specified.\n",
    "\n",
    "We display an image below using this method.\n",
    "\n",
    "<br/>\n",
    "![SAP Logo](data/SAP.png)\n",
    "<br/>"
   ]
  },
  {
   "cell_type": "markdown",
   "metadata": {},
   "source": [
    "### Plotting in Jupyter\n",
    "Our *notebooks* allow us to plot results and visualize the data that we have.\n",
    "In order to show plots in a notebook, we can use either Matplotlib []."
   ]
  },
  {
   "cell_type": "code",
   "execution_count": 3,
   "metadata": {},
   "outputs": [
    {
     "data": {
      "image/png": "[encoded data removed]",
      "text/plain": [
       "<matplotlib.figure.Figure at 0x106cbb208>"
      ]
     },
     "metadata": {},
     "output_type": "display_data"
    }
   ],
   "source": [
    "import matplotlib.pyplot as plt\n",
    "%matplotlib inline\n",
    "\n",
    "plt.plot([1, 2, 3, 4], [10, 20, 30, 40], color='darkblue', linewidth=1, label=\"Line\")\n",
    "plt.scatter([0.7, 3.8, 1.2, 2.5], [12, 35, 11, 26], color='red', marker='o', label=\"Scatter\") \n",
    "plt.title(\"Plotting using Matplotlib\")\n",
    "plt.legend()\n",
    "plt.show()"
   ]
  },
  {
   "cell_type": "markdown",
   "metadata": {},
   "source": [
    "More plot types and plotting styles are discussed in detail in this article:\n",
    "https://www.datacamp.com/community/tutorials/matplotlib-tutorial-python"
   ]
  },
  {
   "cell_type": "markdown",
   "metadata": {},
   "source": [
    "### Visualizing Machine Learning Datasets\n",
    "We will look at an example of using Facets, an open source visualization tool for machine learning datasets."
   ]
  }
 ],
 "metadata": {
  "anaconda-cloud": {},
  "kernelspec": {
   "display_name": "Python 3",
   "language": "python",
   "name": "python3"
  },
  "language_info": {
   "codemirror_mode": {
    "name": "ipython",
    "version": 3
   },
   "file_extension": ".py",
   "mimetype": "text/x-python",
   "name": "python",
   "nbconvert_exporter": "python",
   "pygments_lexer": "ipython3",
   "version": "3.5.2"
  }
 },
 "nbformat": 4,
 "nbformat_minor": 2
}
